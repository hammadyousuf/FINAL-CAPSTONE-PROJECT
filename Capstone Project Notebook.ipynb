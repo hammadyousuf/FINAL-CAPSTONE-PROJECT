{
    "cells": [
        {
            "cell_type": "markdown", 
            "source": "###  Capstone Project Data Science\n\nThis work has been done under the aspect of learning data science from a beginers' perspective\nand includes the work required to be submitted in order to achieve the grade.", 
            "metadata": {
                "collapsed": true
            }
        }, 
        {
            "cell_type": "code", 
            "execution_count": 1, 
            "source": "import pandas as pd\nimport numpy as np", 
            "metadata": {}, 
            "outputs": []
        }, 
        {
            "cell_type": "code", 
            "execution_count": 2, 
            "source": "print(\"Hello Capstone Project Course!\")", 
            "metadata": {}, 
            "outputs": [
                {
                    "text": "Hello Capstone Project Course!\n", 
                    "output_type": "stream", 
                    "name": "stdout"
                }
            ]
        }, 
        {
            "cell_type": "code", 
            "execution_count": 3, 
            "source": "Hello Capstone Project Course!", 
            "metadata": {}, 
            "outputs": [
                {
                    "evalue": "invalid syntax (<ipython-input-3-5de8b4d0d956>, line 2)", 
                    "traceback": [
                        "\u001b[0;36m  File \u001b[0;32m\"<ipython-input-3-5de8b4d0d956>\"\u001b[0;36m, line \u001b[0;32m2\u001b[0m\n\u001b[0;31m    this is a hidden cell\u001b[0m\n\u001b[0m                   ^\u001b[0m\n\u001b[0;31mSyntaxError\u001b[0m\u001b[0;31m:\u001b[0m invalid syntax\n"
                    ], 
                    "ename": "SyntaxError", 
                    "output_type": "error"
                }
            ]
        }
    ], 
    "nbformat_minor": 1, 
    "nbformat": 4, 
    "metadata": {
        "kernelspec": {
            "language": "python3", 
            "display_name": "Python 3.5 with Spark", 
            "name": "python3"
        }, 
        "language_info": {
            "file_extension": ".py", 
            "version": "3.5.4", 
            "mimetype": "text/x-python", 
            "nbconvert_exporter": "python", 
            "name": "python", 
            "pygments_lexer": "ipython3", 
            "codemirror_mode": {
                "version": 3, 
                "name": "ipython"
            }
        }
    }
}