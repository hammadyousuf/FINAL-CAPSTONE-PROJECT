{
    "nbformat_minor": 1, 
    "metadata": {
        "language_info": {
            "pygments_lexer": "ipython3", 
            "name": "python", 
            "file_extension": ".py", 
            "nbconvert_exporter": "python", 
            "mimetype": "text/x-python", 
            "codemirror_mode": {
                "name": "ipython", 
                "version": 3
            }, 
            "version": "3.5.4"
        }, 
        "kernelspec": {
            "language": "python3", 
            "name": "python3", 
            "display_name": "Python 3.5 with Spark"
        }
    }, 
    "nbformat": 4, 
    "cells": [
        {
            "source": "###  Capstone Project Data Science\n\nThis work has been done under the aspect of learning data science from a beginers' perspective\nand includes the work required to be submitted in order to achieve the grade.", 
            "metadata": {
                "collapsed": true
            }, 
            "cell_type": "markdown"
        }, 
        {
            "execution_count": 1, 
            "metadata": {}, 
            "source": "import pandas as pd\nimport numpy as np", 
            "outputs": [], 
            "cell_type": "code"
        }, 
        {
            "execution_count": 2, 
            "metadata": {}, 
            "source": "print(\"Hello Capstone Project Course!\")", 
            "outputs": [
                {
                    "name": "stdout", 
                    "output_type": "stream", 
                    "text": "Hello Capstone Project Course!\n"
                }
            ], 
            "cell_type": "code"
        }
    ]
}